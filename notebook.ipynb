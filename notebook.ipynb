{
 "cells": [
  {
   "cell_type": "code",
   "execution_count": null,
   "id": "7f7d0d0c-1110-4468-9240-862c23423edd",
   "metadata": {},
   "outputs": [],
   "source": [
    "from pytubefix import YouTube\n",
    "from pytubefix.cli import on_progress"
   ]
  },
  {
   "cell_type": "code",
   "execution_count": null,
   "id": "158cb37c-58ed-403b-90ec-333c37b68adf",
   "metadata": {},
   "outputs": [],
   "source": []
  },
  {
   "cell_type": "code",
   "execution_count": null,
   "id": "a17b872c-24bf-44ce-a659-acb267943725",
   "metadata": {},
   "outputs": [],
   "source": [
    "url = \"url\""
   ]
  },
  {
   "cell_type": "code",
   "execution_count": null,
   "id": "a50c5097-bedc-4610-844c-4751f208999b",
   "metadata": {},
   "outputs": [],
   "source": [
    "yt = YouTube(url, on_progress_callback=on_progress)\n",
    "print(yt.title)"
   ]
  },
  {
   "cell_type": "code",
   "execution_count": null,
   "id": "45093598-bd1a-4207-93dc-5d1cc9240f80",
   "metadata": {},
   "outputs": [],
   "source": [
    "ys = yt.streams.get_highest_resolution()\n",
    "ys.download()"
   ]
  }
 ],
 "metadata": {
  "kernelspec": {
   "display_name": "Python 3 (ipykernel)",
   "language": "python",
   "name": "python3"
  },
  "language_info": {
   "codemirror_mode": {
    "name": "ipython",
    "version": 3
   },
   "file_extension": ".py",
   "mimetype": "text/x-python",
   "name": "python",
   "nbconvert_exporter": "python",
   "pygments_lexer": "ipython3",
   "version": "3.12.7"
  }
 },
 "nbformat": 4,
 "nbformat_minor": 5
}
